{
  "nbformat": 4,
  "nbformat_minor": 0,
  "metadata": {
    "colab": {
      "provenance": [],
      "include_colab_link": true
    },
    "kernelspec": {
      "name": "python3",
      "display_name": "Python 3"
    },
    "language_info": {
      "name": "python"
    }
  },
  "cells": [
    {
      "cell_type": "markdown",
      "metadata": {
        "id": "view-in-github",
        "colab_type": "text"
      },
      "source": [
        "<a href=\"https://colab.research.google.com/github/santiagojorda/FIUBA-base-de-datos/blob/main/colab-tp.ipynb\" target=\"_parent\"><img src=\"https://colab.research.google.com/assets/colab-badge.svg\" alt=\"Open In Colab\"/></a>"
      ]
    },
    {
      "cell_type": "markdown",
      "source": [
        "Importo Pandas para el procesamiento de datos."
      ],
      "metadata": {
        "id": "TxPcRAkOu5MS"
      }
    },
    {
      "cell_type": "code",
      "execution_count": null,
      "metadata": {
        "colab": {
          "base_uri": "https://localhost:8080/"
        },
        "id": "bSxuJ3YpoMpz",
        "outputId": "1813ef65-7b27-4390-80c8-2c3b0d643a61"
      },
      "outputs": [
        {
          "output_type": "stream",
          "name": "stdout",
          "text": [
            "                                                   0\n",
            "0  FECHA;DESDE;HASTA;LINEA;MOLINETE;ESTACION;pax_...\n",
            "1  1/1/2023;07:45:00;08:00:00;LineaB;LineaB_Alem_...\n",
            "2  1/1/2023;07:45:00;08:00:00;LineaA;LineaA_Acoyt...\n",
            "3  1/1/2023;07:45:00;08:00:00;LineaB;LineaB_Lacro...\n",
            "4  1/1/2023;07:45:00;08:00:00;LineaB;LineaB_Paste...\n"
          ]
        }
      ],
      "source": [
        "import pandas as pd\n",
        "df = pd.read_csv('https://drive.google.com/uc?export=download&id=1Io3HX-SVgtT2oPFbz67IF7BGBGrd3MWn', header=None)\n",
        "print(df.head())"
      ]
    },
    {
      "cell_type": "markdown",
      "source": [
        "Separo en columnas los datos leidos."
      ],
      "metadata": {
        "id": "dZcjdDrHvKMu"
      }
    },
    {
      "cell_type": "code",
      "source": [
        "df = df[0].str.split(';', expand=True)\n",
        "print(df.head())"
      ],
      "metadata": {
        "colab": {
          "base_uri": "https://localhost:8080/"
        },
        "id": "GzVfP1L6r_gi",
        "outputId": "e8507a00-dff6-4be4-d39b-4fa4205399e0"
      },
      "execution_count": null,
      "outputs": [
        {
          "output_type": "stream",
          "name": "stdout",
          "text": [
            "          0         1         2       3                        4  \\\n",
            "0     FECHA     DESDE     HASTA   LINEA                 MOLINETE   \n",
            "1  1/1/2023  07:45:00  08:00:00  LineaB     LineaB_Alem_S_Turn04   \n",
            "2  1/1/2023  07:45:00  08:00:00  LineaA   LineaA_Acoyte_S_Turn01   \n",
            "3  1/1/2023  07:45:00  08:00:00  LineaB  LineaB_Lacroze_E_Turn06   \n",
            "4  1/1/2023  07:45:00  08:00:00  LineaB  LineaB_Pasteur_S_Turn02   \n",
            "\n",
            "                  5          6                7          8          9  \n",
            "0          ESTACION  pax_pagos  pax_pases_pagos  pax_franq  pax_TOTAL  \n",
            "1   Leandro N. Alem          0                0          2          2  \n",
            "2            Acoyte          0                0          2          2  \n",
            "3  Federico Lacroze          3                0          0          3  \n",
            "4           Pasteur          1                0          0          1  \n"
          ]
        }
      ]
    },
    {
      "cell_type": "markdown",
      "source": [
        "Alineo los nombres de las columnas y reseteo el index."
      ],
      "metadata": {
        "id": "IJTt_utUvQIC"
      }
    },
    {
      "cell_type": "code",
      "source": [
        "df.columns = df.iloc[0]\n",
        "df = df[1:].reset_index(drop=True)\n",
        "print(df.head())"
      ],
      "metadata": {
        "colab": {
          "base_uri": "https://localhost:8080/"
        },
        "id": "MBeLjPzivoF9",
        "outputId": "1eec784c-07d3-4f5e-8f4a-25ce70ce8e70"
      },
      "execution_count": null,
      "outputs": [
        {
          "output_type": "stream",
          "name": "stdout",
          "text": [
            "0     FECHA     DESDE     HASTA   LINEA                          MOLINETE  \\\n",
            "0  1/1/2023  07:45:00  08:00:00  LineaB              LineaB_Alem_S_Turn04   \n",
            "1  1/1/2023  07:45:00  08:00:00  LineaA            LineaA_Acoyte_S_Turn01   \n",
            "2  1/1/2023  07:45:00  08:00:00  LineaB           LineaB_Lacroze_E_Turn06   \n",
            "3  1/1/2023  07:45:00  08:00:00  LineaB           LineaB_Pasteur_S_Turn02   \n",
            "4  1/1/2023  07:45:00  08:00:00  LineaC  LineaC_Constitucion_Plaza_Turn04   \n",
            "\n",
            "0          ESTACION pax_pagos pax_pases_pagos pax_franq pax_TOTAL  \n",
            "0   Leandro N. Alem         0               0         2         2  \n",
            "1            Acoyte         0               0         2         2  \n",
            "2  Federico Lacroze         3               0         0         3  \n",
            "3           Pasteur         1               0         0         1  \n",
            "4      Constitucion         1               0         0         1  \n"
          ]
        }
      ]
    },
    {
      "cell_type": "markdown",
      "source": [
        "Eliminación de registros inválidos."
      ],
      "metadata": {
        "id": "N3rhjkRIvYqb"
      }
    },
    {
      "cell_type": "code",
      "source": [
        "df = df.dropna()\n",
        "print(df.head())"
      ],
      "metadata": {
        "colab": {
          "base_uri": "https://localhost:8080/"
        },
        "id": "MpDo6ryowS1L",
        "outputId": "e5c00aaa-3974-400d-eedd-81ce04517a96"
      },
      "execution_count": null,
      "outputs": [
        {
          "output_type": "stream",
          "name": "stdout",
          "text": [
            "0     FECHA     DESDE     HASTA   LINEA                          MOLINETE  \\\n",
            "0  1/1/2023  07:45:00  08:00:00  LineaB              LineaB_Alem_S_Turn04   \n",
            "1  1/1/2023  07:45:00  08:00:00  LineaA            LineaA_Acoyte_S_Turn01   \n",
            "2  1/1/2023  07:45:00  08:00:00  LineaB           LineaB_Lacroze_E_Turn06   \n",
            "3  1/1/2023  07:45:00  08:00:00  LineaB           LineaB_Pasteur_S_Turn02   \n",
            "4  1/1/2023  07:45:00  08:00:00  LineaC  LineaC_Constitucion_Plaza_Turn04   \n",
            "\n",
            "0          ESTACION pax_pagos pax_pases_pagos pax_franq pax_TOTAL  \n",
            "0   Leandro N. Alem         0               0         2         2  \n",
            "1            Acoyte         0               0         2         2  \n",
            "2  Federico Lacroze         3               0         0         3  \n",
            "3           Pasteur         1               0         0         1  \n",
            "4      Constitucion         1               0         0         1  \n"
          ]
        }
      ]
    },
    {
      "cell_type": "markdown",
      "source": [
        "Ajuste de formato en los datos."
      ],
      "metadata": {
        "id": "daJmCD9pvh-l"
      }
    },
    {
      "cell_type": "code",
      "source": [
        "df['FECHA'] = pd.to_datetime(df['FECHA'], format= \"%d/%m/%Y\")\n",
        "print(df.head())"
      ],
      "metadata": {
        "colab": {
          "base_uri": "https://localhost:8080/"
        },
        "id": "3b4awyTvy2Zk",
        "outputId": "7a1c836c-4b30-4e7e-a293-ba7302f039c6"
      },
      "execution_count": null,
      "outputs": [
        {
          "output_type": "stream",
          "name": "stdout",
          "text": [
            "0      FECHA     DESDE     HASTA   LINEA                          MOLINETE  \\\n",
            "0 2023-01-01  07:45:00  08:00:00  LineaB              LineaB_Alem_S_Turn04   \n",
            "1 2023-01-01  07:45:00  08:00:00  LineaA            LineaA_Acoyte_S_Turn01   \n",
            "2 2023-01-01  07:45:00  08:00:00  LineaB           LineaB_Lacroze_E_Turn06   \n",
            "3 2023-01-01  07:45:00  08:00:00  LineaB           LineaB_Pasteur_S_Turn02   \n",
            "4 2023-01-01  07:45:00  08:00:00  LineaC  LineaC_Constitucion_Plaza_Turn04   \n",
            "\n",
            "0          ESTACION pax_pagos pax_pases_pagos pax_franq pax_TOTAL  \n",
            "0   Leandro N. Alem         0               0         2         2  \n",
            "1            Acoyte         0               0         2         2  \n",
            "2  Federico Lacroze         3               0         0         3  \n",
            "3           Pasteur         1               0         0         1  \n",
            "4      Constitucion         1               0         0         1  \n"
          ]
        }
      ]
    },
    {
      "cell_type": "code",
      "source": [
        "print(df.dtypes)"
      ],
      "metadata": {
        "colab": {
          "base_uri": "https://localhost:8080/"
        },
        "id": "ffsV_3k1zedA",
        "outputId": "0c705d0d-f9c4-4235-d2dc-d93bb9646f54"
      },
      "execution_count": null,
      "outputs": [
        {
          "output_type": "stream",
          "name": "stdout",
          "text": [
            "0\n",
            "FECHA              datetime64[ns]\n",
            "DESDE                      object\n",
            "HASTA                      object\n",
            "LINEA                      object\n",
            "MOLINETE                   object\n",
            "ESTACION                   object\n",
            "pax_pagos                  object\n",
            "pax_pases_pagos            object\n",
            "pax_franq                  object\n",
            "pax_TOTAL                  object\n",
            "dtype: object\n"
          ]
        }
      ]
    },
    {
      "cell_type": "code",
      "source": [
        "df['DESDE'] = pd.to_datetime(df['DESDE'], format= \"%H:%M:%S\").dt.time\n",
        "df['HASTA'] = pd.to_datetime(df['HASTA'], format= \"%H:%M:%S\").dt.time\n",
        "print(df.head())"
      ],
      "metadata": {
        "colab": {
          "base_uri": "https://localhost:8080/"
        },
        "id": "MaKzmP00hy5F",
        "outputId": "24f6f2ce-45c8-45a6-8c2c-2ea33c1c8db5"
      },
      "execution_count": null,
      "outputs": [
        {
          "output_type": "stream",
          "name": "stdout",
          "text": [
            "0      FECHA     DESDE     HASTA   LINEA                          MOLINETE  \\\n",
            "0 2023-01-01  07:45:00  08:00:00  LineaB              LineaB_Alem_S_Turn04   \n",
            "1 2023-01-01  07:45:00  08:00:00  LineaA            LineaA_Acoyte_S_Turn01   \n",
            "2 2023-01-01  07:45:00  08:00:00  LineaB           LineaB_Lacroze_E_Turn06   \n",
            "3 2023-01-01  07:45:00  08:00:00  LineaB           LineaB_Pasteur_S_Turn02   \n",
            "4 2023-01-01  07:45:00  08:00:00  LineaC  LineaC_Constitucion_Plaza_Turn04   \n",
            "\n",
            "0          ESTACION pax_pagos pax_pases_pagos pax_franq pax_TOTAL  \n",
            "0   Leandro N. Alem         0               0         2         2  \n",
            "1            Acoyte         0               0         2         2  \n",
            "2  Federico Lacroze         3               0         0         3  \n",
            "3           Pasteur         1               0         0         1  \n",
            "4      Constitucion         1               0         0         1  \n"
          ]
        }
      ]
    },
    {
      "cell_type": "code",
      "source": [
        "df['LINEA'] = df['LINEA'].astype('category')\n",
        "print(df.dtypes)"
      ],
      "metadata": {
        "colab": {
          "base_uri": "https://localhost:8080/"
        },
        "id": "QGqekVwLjVrW",
        "outputId": "36743f5a-5eb9-426e-8fbb-7c241e42a8a7"
      },
      "execution_count": null,
      "outputs": [
        {
          "output_type": "stream",
          "name": "stdout",
          "text": [
            "0\n",
            "FECHA              datetime64[ns]\n",
            "DESDE                      object\n",
            "HASTA                      object\n",
            "LINEA                    category\n",
            "MOLINETE                   object\n",
            "ESTACION                   object\n",
            "pax_pagos                  object\n",
            "pax_pases_pagos            object\n",
            "pax_franq                  object\n",
            "pax_TOTAL                  object\n",
            "dtype: object\n"
          ]
        }
      ]
    },
    {
      "cell_type": "code",
      "source": [
        "df['MOLINETE'] = df['MOLINETE'].astype('category') # PODRIA SER UNA CATEGORIA\n",
        "df['ESTACION'] = df['ESTACION'].astype('category')\n",
        "print(df.dtypes)"
      ],
      "metadata": {
        "colab": {
          "base_uri": "https://localhost:8080/"
        },
        "id": "oR45vLb1lRTA",
        "outputId": "ee364382-b2e4-4a63-99da-152965f3d236"
      },
      "execution_count": null,
      "outputs": [
        {
          "output_type": "stream",
          "name": "stdout",
          "text": [
            "0\n",
            "FECHA              datetime64[ns]\n",
            "DESDE                      object\n",
            "HASTA                      object\n",
            "LINEA                    category\n",
            "MOLINETE                   object\n",
            "ESTACION                   object\n",
            "pax_pagos                  object\n",
            "pax_pases_pagos            object\n",
            "pax_franq                  object\n",
            "pax_TOTAL                  object\n",
            "dtype: object\n"
          ]
        }
      ]
    },
    {
      "cell_type": "code",
      "source": [
        "df['pax_pagos'] = df['pax_pagos'].astype(int)\n",
        "df['pax_pases_pagos'] = df['pax_pases_pagos'].astype(int)\n",
        "df['pax_franq'] = df['pax_franq'].astype(int)\n",
        "df['pax_TOTAL'] = df['pax_TOTAL'].astype(int)\n",
        "print(df.dtypes)"
      ],
      "metadata": {
        "colab": {
          "base_uri": "https://localhost:8080/"
        },
        "id": "xqRi9gyLmOyo",
        "outputId": "4f4b10f5-494e-4502-f65f-f9858bd40741"
      },
      "execution_count": null,
      "outputs": [
        {
          "output_type": "stream",
          "name": "stdout",
          "text": [
            "0\n",
            "FECHA              datetime64[ns]\n",
            "DESDE                      object\n",
            "HASTA                      object\n",
            "LINEA                    category\n",
            "MOLINETE                   object\n",
            "ESTACION                   object\n",
            "pax_pagos                   int64\n",
            "pax_pases_pagos             int64\n",
            "pax_franq                   int64\n",
            "pax_TOTAL                   int64\n",
            "dtype: object\n"
          ]
        }
      ]
    },
    {
      "cell_type": "code",
      "source": [
        "print(df.head())"
      ],
      "metadata": {
        "colab": {
          "base_uri": "https://localhost:8080/"
        },
        "id": "EaXgjahKm_gP",
        "outputId": "0a87e878-7af5-4785-8a26-f77ab04d6eba"
      },
      "execution_count": null,
      "outputs": [
        {
          "output_type": "stream",
          "name": "stdout",
          "text": [
            "0      FECHA     DESDE     HASTA   LINEA                          MOLINETE  \\\n",
            "0 2023-01-01  07:45:00  08:00:00  LineaB              LineaB_Alem_S_Turn04   \n",
            "1 2023-01-01  07:45:00  08:00:00  LineaA            LineaA_Acoyte_S_Turn01   \n",
            "2 2023-01-01  07:45:00  08:00:00  LineaB           LineaB_Lacroze_E_Turn06   \n",
            "3 2023-01-01  07:45:00  08:00:00  LineaB           LineaB_Pasteur_S_Turn02   \n",
            "4 2023-01-01  07:45:00  08:00:00  LineaC  LineaC_Constitucion_Plaza_Turn04   \n",
            "\n",
            "0          ESTACION  pax_pagos  pax_pases_pagos  pax_franq  pax_TOTAL  \n",
            "0   Leandro N. Alem          0                0          2          2  \n",
            "1            Acoyte          0                0          2          2  \n",
            "2  Federico Lacroze          3                0          0          3  \n",
            "3           Pasteur          1                0          0          1  \n",
            "4      Constitucion          1                0          0          1  \n"
          ]
        }
      ]
    },
    {
      "cell_type": "markdown",
      "source": [
        "Creación de archivo de muestra para la revisión manual."
      ],
      "metadata": {
        "id": "EV83vCFivs-t"
      }
    },
    {
      "cell_type": "code",
      "source": [
        "muestra = df.sample(n=385, random_state=4)\n",
        "print(muestra)"
      ],
      "metadata": {
        "colab": {
          "base_uri": "https://localhost:8080/"
        },
        "id": "edlC6tkLnYMN",
        "outputId": "a4b64f39-939a-422f-c204-c2086e97a674"
      },
      "execution_count": null,
      "outputs": [
        {
          "output_type": "stream",
          "name": "stdout",
          "text": [
            "0           FECHA     DESDE     HASTA   LINEA                  MOLINETE  \\\n",
            "120583 2023-01-07  12:00:00  12:15:00  LineaB     LineaB_Pueyr_S_Turn02   \n",
            "135107 2023-01-08  12:00:00  12:15:00  LineaC    LineaC_Moreno_S_Turn01   \n",
            "333633 2023-01-18  16:30:00  16:45:00  LineaB   LineaB_Medrano_N_Turn01   \n",
            "467247 2023-01-25  16:15:00  16:30:00  LineaC    LineaC_AVMayo_S_Turn03   \n",
            "449992 2023-01-24  19:00:00  19:15:00  LineaA    LineaA_Acoyte_N_Turn01   \n",
            "...           ...       ...       ...     ...                       ...   \n",
            "373094 2023-01-20  15:30:00  15:45:00  LineaA   LineaA_Piedras_S_Turn02   \n",
            "53989  2023-01-04  06:45:00  07:00:00  LineaB    LineaB_Gardel_N_Turn02   \n",
            "581481 2023-01-31  16:00:00  16:15:00  LineaA     LineaA_Alberti_Turn03   \n",
            "263134 2023-01-14  19:45:00  20:00:00  LineaA   LineaA_CBarros_S_Turn01   \n",
            "72742  2023-01-04  23:00:00  23:15:00  LineaA  LineaA_Miserere_S_Turn02   \n",
            "\n",
            "0              ESTACION  pax_pagos  pax_pases_pagos  pax_franq  pax_TOTAL  \n",
            "120583       Pueyrredon         24                0          0         24  \n",
            "135107   Mariano Moreno          1                0          0          1  \n",
            "333633          Medrano         42                0          0         42  \n",
            "467247  Avenida de Mayo         15                0          4         19  \n",
            "449992           Acoyte         10                0          0         10  \n",
            "...                 ...        ...              ...        ...        ...  \n",
            "373094          Piedras         24                0          0         24  \n",
            "53989     Carlos Gardel          0                0          0          0  \n",
            "581481          Alberti         30                0          0         30  \n",
            "263134    Castro Barros          9                0          1         10  \n",
            "72742    Plaza Miserere          1                0          0          1  \n",
            "\n",
            "[385 rows x 10 columns]\n"
          ]
        }
      ]
    },
    {
      "cell_type": "code",
      "source": [
        "muestra.to_csv('muestra.csv', index=False)"
      ],
      "metadata": {
        "id": "E6Owu70en5MT"
      },
      "execution_count": null,
      "outputs": []
    },
    {
      "cell_type": "markdown",
      "source": [
        "Importo sqlite para la exportación de los datos a una base de datos."
      ],
      "metadata": {
        "id": "cNvukx_4v0vM"
      }
    },
    {
      "cell_type": "code",
      "source": [
        "import sqlite3\n",
        "conn = sqlite3.connect('bdd_tp.sqlite')"
      ],
      "metadata": {
        "id": "zyFyLP8YrRvN"
      },
      "execution_count": null,
      "outputs": []
    },
    {
      "cell_type": "code",
      "source": [
        "df.to_sql('molinetes', conn, if_exists='replace', index=False)"
      ],
      "metadata": {
        "colab": {
          "base_uri": "https://localhost:8080/"
        },
        "id": "oJYBS1-erriF",
        "outputId": "007b0612-19bf-487c-c025-4d989e596be4"
      },
      "execution_count": null,
      "outputs": [
        {
          "output_type": "execute_result",
          "data": {
            "text/plain": [
              "589514"
            ]
          },
          "metadata": {},
          "execution_count": 20
        }
      ]
    },
    {
      "cell_type": "markdown",
      "source": [
        "Lectura de los datos desde la base de datos."
      ],
      "metadata": {
        "id": "3ofC3gxowFXJ"
      }
    },
    {
      "cell_type": "code",
      "source": [
        "df_from_db = pd.read_sql_query('SELECT * FROM molinetes', conn)\n",
        "print(df_from_db.head())"
      ],
      "metadata": {
        "colab": {
          "base_uri": "https://localhost:8080/"
        },
        "id": "jjBHz78Jscqs",
        "outputId": "eacb2cd2-e81f-4ae6-81f9-f3606bfec8e5"
      },
      "execution_count": null,
      "outputs": [
        {
          "output_type": "stream",
          "name": "stdout",
          "text": [
            "                 FECHA            DESDE            HASTA   LINEA  \\\n",
            "0  2023-01-01 00:00:00  07:45:00.000000  08:00:00.000000  LineaB   \n",
            "1  2023-01-01 00:00:00  07:45:00.000000  08:00:00.000000  LineaA   \n",
            "2  2023-01-01 00:00:00  07:45:00.000000  08:00:00.000000  LineaB   \n",
            "3  2023-01-01 00:00:00  07:45:00.000000  08:00:00.000000  LineaB   \n",
            "4  2023-01-01 00:00:00  07:45:00.000000  08:00:00.000000  LineaC   \n",
            "\n",
            "                           MOLINETE          ESTACION  pax_pagos  \\\n",
            "0              LineaB_Alem_S_Turn04   Leandro N. Alem          0   \n",
            "1            LineaA_Acoyte_S_Turn01            Acoyte          0   \n",
            "2           LineaB_Lacroze_E_Turn06  Federico Lacroze          3   \n",
            "3           LineaB_Pasteur_S_Turn02           Pasteur          1   \n",
            "4  LineaC_Constitucion_Plaza_Turn04      Constitucion          1   \n",
            "\n",
            "   pax_pases_pagos  pax_franq  pax_TOTAL  \n",
            "0                0          2          2  \n",
            "1                0          2          2  \n",
            "2                0          0          3  \n",
            "3                0          0          1  \n",
            "4                0          0          1  \n"
          ]
        }
      ]
    },
    {
      "cell_type": "markdown",
      "source": [
        "Información de las columans de mi base de datos."
      ],
      "metadata": {
        "id": "f5UnViBQwwB-"
      }
    },
    {
      "cell_type": "code",
      "source": [
        "cursor = conn.cursor()\n",
        "cursor.execute(\"PRAGMA table_info(molinetes)\")\n",
        "print(cursor.fetchall())"
      ],
      "metadata": {
        "colab": {
          "base_uri": "https://localhost:8080/"
        },
        "id": "srNRgaxGwvYC",
        "outputId": "8908e2b5-4662-40b2-8216-d62916668ee5"
      },
      "execution_count": null,
      "outputs": [
        {
          "output_type": "stream",
          "name": "stdout",
          "text": [
            "[(0, 'FECHA', 'TIMESTAMP', 0, None, 0), (1, 'DESDE', 'TIME', 0, None, 0), (2, 'HASTA', 'TIME', 0, None, 0), (3, 'LINEA', 'TEXT', 0, None, 0), (4, 'MOLINETE', 'TEXT', 0, None, 0), (5, 'ESTACION', 'TEXT', 0, None, 0), (6, 'pax_pagos', 'INTEGER', 0, None, 0), (7, 'pax_pases_pagos', 'INTEGER', 0, None, 0), (8, 'pax_franq', 'INTEGER', 0, None, 0), (9, 'pax_TOTAL', 'INTEGER', 0, None, 0)]\n"
          ]
        }
      ]
    },
    {
      "cell_type": "markdown",
      "source": [
        "Cierre de la conexión a la base de datos."
      ],
      "metadata": {
        "id": "WPNG6U6wxjQm"
      }
    },
    {
      "cell_type": "code",
      "source": [
        "conn.close()"
      ],
      "metadata": {
        "id": "yzgQSX90tVGw"
      },
      "execution_count": null,
      "outputs": []
    }
  ]
}